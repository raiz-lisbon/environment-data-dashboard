{
 "cells": [
  {
   "cell_type": "markdown",
   "metadata": {
    "cell_id": "8996d9f966b24f53b745add372297583",
    "deepnote_app_coordinates": {
     "h": 6,
     "w": 12,
     "x": 0,
     "y": 0
    },
    "is_collapsed": false,
    "tags": []
   },
   "source": [
    "# Hey, how many days do you want to track ? "
   ]
  },
  {
   "cell_type": "code",
   "execution_count": null,
   "metadata": {
    "cell_id": "7981e5dcc0da48e98a304b13fb32b1f5",
    "deepnote_app_coordinates": {
     "h": 4,
     "w": 8,
     "x": 0,
     "y": 7
    },
    "deepnote_slider_max_value": 100,
    "deepnote_slider_min_value": 1,
    "deepnote_slider_step": 1,
    "deepnote_variable_name": "days",
    "deepnote_variable_value": "14"
   },
   "outputs": [],
   "source": [
    "days = 14"
   ]
  },
  {
   "cell_type": "code",
   "execution_count": null,
   "metadata": {
    "cell_id": "6f06d87ab58546cca459403683cede96",
    "tags": []
   },
   "outputs": [],
   "source": [
    "# convert the timeintervall into a date\n",
    "import datetime\n",
    "\n",
    "start_time = datetime.date.today() - datetime.timedelta(days=days)\n",
    "start_time_strg = start_time.strftime(\"%Y-%m-%d\")"
   ]
  },
  {
   "cell_type": "markdown",
   "metadata": {
    "cell_id": "71f51a1b19c541fe93ef6e5af8044b53",
    "deepnote_app_coordinates": {
     "h": 4,
     "w": 12,
     "x": 0,
     "y": 12
    },
    "is_collapsed": false,
    "tags": []
   },
   "source": [
    "# Display: Light intensity "
   ]
  },
  {
   "cell_type": "markdown",
   "metadata": {
    "cell_id": "7a0b661d824a498d9f7b9722c098cce1",
    "is_collapsed": false,
    "tags": []
   },
   "source": [
    "Get the sensor data for the wanted timeframe out of the BigQuery"
   ]
  },
  {
   "cell_type": "code",
   "execution_count": null,
   "metadata": {
    "cell_id": "1fca74bab794408481138f3850fbb3b3",
    "deepnote_sql_source": "SELECT *\nFROM environment-data.farm_one.RPI_0002_SPECTRUM\nWHERE timestamp >= {{start_time_strg}}",
    "deepnote_table_loading": false,
    "deepnote_table_state": {
     "filters": [],
     "pageIndex": 4,
     "pageSize": 10,
     "sortBy": []
    },
    "deepnote_variable_name": "spectrum_raw",
    "sql_integration_id": "80d20ba0-e586-4cd7-8ee7-89c1e3284284",
    "tags": []
   },
   "outputs": [],
   "source": [
    "\n",
    "\n",
    "spectrum_raw = _deepnote_execute_sql(\"\"\"SELECT *\n",
    "FROM environment-data.farm_one.RPI_0002_SPECTRUM\n",
    "WHERE timestamp >= {{start_time_strg}}\n",
    "\"\"\", 'SQL_80D20BA0_E586_4CD7_8EE7_89C1E3284284')\n",
    "spectrum_raw"
   ]
  },
  {
   "cell_type": "code",
   "execution_count": null,
   "metadata": {
    "cell_id": "6afa408fd98a4e00b4fb4403b080f08a",
    "deepnote_app_coordinates": {
     "h": 24,
     "w": 21,
     "x": 0,
     "y": 16
    },
    "deepnote_app_is_code_hidden": true,
    "tags": []
   },
   "outputs": [],
   "source": [
    "import altair as alt\n",
    "import pandas as pd\n",
    "\n",
    "alt.data_transformers.disable_max_rows()\n",
    "\n",
    "spectrum = spectrum_raw.drop(['raw_counts', 'sensor_config'], axis=1)\n",
    "\n",
    "scales = alt.selection_interval(bind='scales')\n",
    "\n",
    "alt.Chart(spectrum.melt(\"timestamp\")).mark_line().encode(\n",
    "    alt.X('timestamp:T', title = 'time'),\n",
    "    alt.Y(\"value\", title= 'Photones count normalized'),\n",
    "    alt.Color(\n",
    "            'variable',\n",
    "            legend=alt.Legend(title='Wavelength')\n",
    "        )\n",
    ").add_selection(scales\n",
    ").properties(\n",
    "    width=800,\n",
    "    height=500\n",
    ")\n"
   ]
  },
  {
   "cell_type": "markdown",
   "metadata": {
    "cell_id": "69caacdd50c6456594caca670e6cf071",
    "is_collapsed": false,
    "tags": []
   },
   "source": [
    "## Photosynthetically active radiation"
   ]
  },
  {
   "cell_type": "code",
   "execution_count": null,
   "metadata": {
    "cell_id": "adadba264f11479c8794b31fbbf705f8",
    "tags": []
   },
   "outputs": [],
   "source": [
    " # change that so you get it from the Bigquery\n",
    "df = [[415, 1.6516294668836452e-09],\n",
    " [445, 4.1243339969332355e-10],\n",
    " [480, 1.0055502515115129e-10],\n",
    " [515, 2.509255297335764e-11],\n",
    " [555, 1.8378832219831768e-11],\n",
    " [590, 1.3843413360230785e-11],\n",
    " [630, 1.241671476534171e-11],\n",
    " [680, 1.544011577070462e-11]]\n",
    "\n",
    " par = pd.DataFrame(df, columns=['Wavelength', 'Intensity'])"
   ]
  },
  {
   "cell_type": "code",
   "execution_count": null,
   "metadata": {
    "cell_id": "8fd51b96faab40e8b767834883089b74",
    "deepnote_app_is_code_hidden": true,
    "tags": []
   },
   "outputs": [],
   "source": [
    "# print chart for Wavelength \n",
    "alt.Chart(par).mark_line().encode(\n",
    "    alt.X('Wavelength' , title = 'Wavelength',\n",
    "            scale=alt.Scale(domain=(400, 700))),\n",
    "    alt.Y('Intensity', title= 'Light intensity [ mol / m2 / s]',\n",
    "            scale=alt.Scale(domain=(0, 20e-10))) \n",
    "\n",
    ").add_selection(scales\n",
    ").properties(\n",
    "    width=800\n",
    ")  "
   ]
  },
  {
   "cell_type": "markdown",
   "metadata": {
    "cell_id": "bbbe7ae9ec214139a449706d7f2ca906",
    "deepnote_app_coordinates": {
     "h": 4,
     "w": 12,
     "x": 0,
     "y": 40
    },
    "is_collapsed": false,
    "tags": []
   },
   "source": [
    "# Display: Humidity"
   ]
  },
  {
   "cell_type": "code",
   "execution_count": null,
   "metadata": {
    "cell_id": "3af90164217148ada6127ee7036939e7",
    "deepnote_sql_source": "SELECT humidity, timestamp\nFROM environment-data.farm_one.RPI_0001_HUM_TEMP \n",
    "deepnote_variable_name": "humidity",
    "sql_integration_id": "80d20ba0-e586-4cd7-8ee7-89c1e3284284",
    "tags": []
   },
   "outputs": [],
   "source": [
    "\n",
    "\n",
    "humidity = _deepnote_execute_sql(\"\"\"SELECT humidity, timestamp\n",
    "FROM environment-data.farm_one.RPI_0001_HUM_TEMP \n",
    "\n",
    "\"\"\", 'SQL_80D20BA0_E586_4CD7_8EE7_89C1E3284284')\n",
    "humidity"
   ]
  },
  {
   "cell_type": "code",
   "execution_count": null,
   "metadata": {
    "cell_id": "d0a3ee7c305a43f2aae417ef14015814",
    "tags": []
   },
   "outputs": [],
   "source": [
    "# add the RPM values to the dataframe for display\n",
    "\n",
    "max_rh = humidity.assign(max_realtive_humidity =70)"
   ]
  },
  {
   "cell_type": "code",
   "execution_count": null,
   "metadata": {
    "cell_id": "a8930e8e4d134a67831d17ba3c95e971",
    "deepnote_app_coordinates": {
     "h": 17,
     "w": 21,
     "x": 0,
     "y": 44
    },
    "deepnote_app_is_code_hidden": true,
    "tags": []
   },
   "outputs": [],
   "source": [
    "alt.Chart(max_rh.melt(\"timestamp\")).mark_line().encode(\n",
    "    alt.X('timestamp:T', title = 'time'),\n",
    "    alt.Y(\"value\", title= 'Relative Humidity [%]',\n",
    "        scale=alt.Scale(domain=(0, 100))),\n",
    "    alt.Color(\n",
    "            'variable',\n",
    "            legend=alt.Legend(title='Legend'))\n",
    "       \n",
    ").add_selection(scales\n",
    ").properties(\n",
    "    width=800\n",
    ")"
   ]
  },
  {
   "cell_type": "markdown",
   "metadata": {
    "cell_id": "760c68a00ae547cc81178d9ba64b3b6f",
    "deepnote_app_coordinates": {
     "h": 4,
     "w": 12,
     "x": 0,
     "y": 61
    },
    "is_collapsed": false,
    "tags": []
   },
   "source": [
    "# Display: Temperature"
   ]
  },
  {
   "cell_type": "code",
   "execution_count": null,
   "metadata": {
    "cell_id": "113e99260be84521b23df47cabec6193",
    "deepnote_sql_source": "SELECT temperature, timestamp\nFROM environment-data.farm_one.RPI_0001_HUM_TEMP",
    "deepnote_variable_name": "temp",
    "sql_integration_id": "80d20ba0-e586-4cd7-8ee7-89c1e3284284",
    "tags": []
   },
   "outputs": [],
   "source": [
    "\n",
    "\n",
    "temp = _deepnote_execute_sql(\"\"\"SELECT temperature, timestamp\n",
    "FROM environment-data.farm_one.RPI_0001_HUM_TEMP\n",
    "\"\"\", 'SQL_80D20BA0_E586_4CD7_8EE7_89C1E3284284')\n",
    "temp"
   ]
  },
  {
   "cell_type": "code",
   "execution_count": null,
   "metadata": {
    "cell_id": "45438eb2145e4f088ea74855ff6ea957",
    "tags": []
   },
   "outputs": [],
   "source": [
    "max_temp = temp.assign(max_temperature = 27)"
   ]
  },
  {
   "cell_type": "code",
   "execution_count": null,
   "metadata": {
    "cell_id": "f2257775da1a49bd9ff4508868101d32",
    "deepnote_app_coordinates": {
     "h": 16,
     "w": 21,
     "x": 0,
     "y": 65
    },
    "deepnote_app_is_code_hidden": true,
    "tags": []
   },
   "outputs": [],
   "source": [
    "alt.Chart(max_temp.melt(\"timestamp\")).mark_line().encode(\n",
    "    alt.X('timestamp:T', title = 'time'),\n",
    "    alt.Y(\"value\", title= 'Temperature [°C]',\n",
    "        scale=alt.Scale(domain=(0, 50))),\n",
    "    alt.Color(\n",
    "            'variable',\n",
    "            legend=alt.Legend(title='Legend'))\n",
    ").add_selection(scales\n",
    ").properties(\n",
    "    width=800\n",
    ")\n"
   ]
  },
  {
   "cell_type": "markdown",
   "metadata": {
    "created_in_deepnote_cell": true,
    "tags": []
   },
   "source": [
    "<a style='text-decoration:none;line-height:16px;display:flex;color:#5B5B62;padding:10px;justify-content:end;' href='https://deepnote.com?utm_source=created-in-deepnote-cell&projectId=9ac7f7a7-9e20-43ef-860d-fab3442df7ec' target=\"_blank\">\n",
    "<img alt='Created in deepnote.com' style='display:inline;max-height:16px;margin:0px;margin-right:7.5px;' src='data:image/svg+xml;base64,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' > </img>\n",
    "Created in <span style='font-weight:600;margin-left:4px;'>Deepnote</span></a>"
   ]
  }
 ],
 "metadata": {
  "deepnote": {
   "is_reactive": false
  },
  "deepnote_app_layout": "dashboard",
  "deepnote_execution_queue": [],
  "deepnote_notebook_id": "3a133748-0257-4e45-a949-b8511cd098c0"
 },
 "nbformat": 4,
 "nbformat_minor": 2
}
